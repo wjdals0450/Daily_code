{
 "cells": [
  {
   "cell_type": "code",
   "execution_count": 1,
   "id": "380ca662",
   "metadata": {},
   "outputs": [],
   "source": [
    "import pickle\n",
    "import pandas as pd"
   ]
  },
  {
   "cell_type": "code",
   "execution_count": 2,
   "id": "6e54678c",
   "metadata": {},
   "outputs": [],
   "source": [
    "model_pipe = pickle.load(open('model.sav','rb'))"
   ]
  },
  {
   "cell_type": "code",
   "execution_count": 3,
   "id": "0caebadd",
   "metadata": {},
   "outputs": [
    {
     "name": "stdout",
     "output_type": "stream",
     "text": [
      "계약 기간을 입력하시오 : 12\n",
      "월랜탈비용을 입력하시오 : 5000000\n",
      "연령을 입력하시오 : 50\n",
      "신용등급을 입력하시오 : 1\n",
      "성별을 입력하시오 : 여자\n",
      "제품군을 입력하시오 : DES-2\n"
     ]
    }
   ],
   "source": [
    "x1 = input('계약 기간을 입력하시오 : ')\n",
    "x2 = input('월랜탈비용을 입력하시오 : ')\n",
    "x3 = input('연령을 입력하시오 : ')\n",
    "x4 = input('신용등급을 입력하시오 : ')\n",
    "x5 = input('성별을 입력하시오 : ')\n",
    "x6 = input('제품군을 입력하시오 : ')\n",
    "\n",
    "col_name = ['Term', 'Amount_Month', 'Age', 'Credit_Rank', 'Gender', 'Product_Type']\n",
    "new_data = pd.DataFrame([[x1,x2,x3,x4,x5,x6]], columns=col_name)"
   ]
  },
  {
   "cell_type": "code",
   "execution_count": 10,
   "id": "f2032e8e",
   "metadata": {},
   "outputs": [
    {
     "data": {
      "text/plain": [
       "array(['없음'], dtype=object)"
      ]
     },
     "execution_count": 10,
     "metadata": {},
     "output_type": "execute_result"
    }
   ],
   "source": [
    "model_pipe.predict(new_data)"
   ]
  },
  {
   "cell_type": "code",
   "execution_count": 12,
   "id": "2292fa55",
   "metadata": {},
   "outputs": [
    {
     "data": {
      "text/plain": [
       "0.0"
      ]
     },
     "execution_count": 12,
     "metadata": {},
     "output_type": "execute_result"
    }
   ],
   "source": [
    "model_pipe.predict_proba(new_data)[0][1]"
   ]
  },
  {
   "cell_type": "markdown",
   "id": "d55016c9",
   "metadata": {},
   "source": [
    "------------\n",
    "### 결측치 데이터 처리 확인"
   ]
  },
  {
   "cell_type": "code",
   "execution_count": 6,
   "id": "8c131658",
   "metadata": {},
   "outputs": [],
   "source": [
    "import numpy as np\n",
    "new_data2 = pd.DataFrame([[np.nan,x2,x3,np.nan,x5,x6]], columns = col_name)"
   ]
  },
  {
   "cell_type": "code",
   "execution_count": 7,
   "id": "bff7af21",
   "metadata": {},
   "outputs": [
    {
     "data": {
      "text/plain": [
       "array(['없음'], dtype=object)"
      ]
     },
     "execution_count": 7,
     "metadata": {},
     "output_type": "execute_result"
    }
   ],
   "source": [
    "model_pipe.predict(new_data2)"
   ]
  },
  {
   "cell_type": "code",
   "execution_count": 9,
   "id": "cc865042",
   "metadata": {},
   "outputs": [
    {
     "data": {
      "text/plain": [
       "0.09090909090909091"
      ]
     },
     "execution_count": 9,
     "metadata": {},
     "output_type": "execute_result"
    }
   ],
   "source": [
    "# 해당 고객이 연체할 확률\n",
    "model_pipe.predict_proba(new_data2)[0][1]"
   ]
  },
  {
   "cell_type": "code",
   "execution_count": null,
   "id": "af92eff1",
   "metadata": {},
   "outputs": [],
   "source": []
  },
  {
   "cell_type": "code",
   "execution_count": null,
   "id": "c610dece",
   "metadata": {},
   "outputs": [],
   "source": []
  },
  {
   "cell_type": "code",
   "execution_count": null,
   "id": "d5f3e428",
   "metadata": {},
   "outputs": [],
   "source": []
  }
 ],
 "metadata": {
  "kernelspec": {
   "display_name": "Python 3 (ipykernel)",
   "language": "python",
   "name": "python3"
  },
  "language_info": {
   "codemirror_mode": {
    "name": "ipython",
    "version": 3
   },
   "file_extension": ".py",
   "mimetype": "text/x-python",
   "name": "python",
   "nbconvert_exporter": "python",
   "pygments_lexer": "ipython3",
   "version": "3.9.13"
  }
 },
 "nbformat": 4,
 "nbformat_minor": 5
}
