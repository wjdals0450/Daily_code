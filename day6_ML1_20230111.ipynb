{
 "cells": [
  {
   "cell_type": "code",
   "execution_count": 1,
   "id": "92dcdbd4",
   "metadata": {},
   "outputs": [],
   "source": [
    "import pandas as pd\n",
    "import numpy as np\n",
    "\n",
    "import matplotlib.pyplot as plt\n",
    "import matplotlib as mpl\n",
    "mpl.rc('font',family= 'Malgun Gothic')  # 한글설정\n",
    "\n",
    "import seaborn as sns"
   ]
  },
  {
   "cell_type": "code",
   "execution_count": 2,
   "id": "16e77399",
   "metadata": {},
   "outputs": [],
   "source": [
    "import scipy.stats as stats  # 귀무가설"
   ]
  },
  {
   "cell_type": "code",
   "execution_count": 3,
   "id": "82a8ed2f",
   "metadata": {},
   "outputs": [
    {
     "name": "stdout",
     "output_type": "stream",
     "text": [
      "Requirement already satisfied: plotly in c:\\users\\dmcconet\\anaconda3\\lib\\site-packages (5.9.0)\n",
      "Requirement already satisfied: tenacity>=6.2.0 in c:\\users\\dmcconet\\anaconda3\\lib\\site-packages (from plotly) (8.0.1)\n"
     ]
    }
   ],
   "source": [
    "!pip install --user plotly\n",
    "import plotly.express as px"
   ]
  },
  {
   "cell_type": "markdown",
   "id": "f8548199",
   "metadata": {},
   "source": [
    "# 2-2) 기계학습평가(Model Evaluation)\n",
    "모델 평가 기법(Evaluation)\n",
    "\n",
    "### 1) 분류에서의 평가\n",
    "\n",
    "- 정확도 Accuracy = (정확하게 분류한 데이터 수) / (전체 데이터 수)\n",
    "     - 정확도 평가는 분류 데이터가 한쪽으로 취우친 경우 정상 평가 불가\n",
    "\n",
    "- 오차행렬 Confusion Matrix: 정확도 분석, 정상 모델인지 확인\n",
    "\n",
    "- 정밀도 Precision:예측값 중 잘 맞춘 비율 = TP/(FP + TP : Predict Positive)\n",
    "\n",
    "- 재현율 Recall: 실제 값 중 잘 맞춘 예측 비율 = TP/(FN + TP : Real Positive)\n"
   ]
  },
  {
   "cell_type": "code",
   "execution_count": 4,
   "id": "a06c6dff",
   "metadata": {},
   "outputs": [],
   "source": [
    "df1 = pd.read_csv('01_Data.csv')"
   ]
  },
  {
   "cell_type": "code",
   "execution_count": 5,
   "id": "7cfe26db",
   "metadata": {},
   "outputs": [
    {
     "data": {
      "text/html": [
       "<div>\n",
       "<style scoped>\n",
       "    .dataframe tbody tr th:only-of-type {\n",
       "        vertical-align: middle;\n",
       "    }\n",
       "\n",
       "    .dataframe tbody tr th {\n",
       "        vertical-align: top;\n",
       "    }\n",
       "\n",
       "    .dataframe thead th {\n",
       "        text-align: right;\n",
       "    }\n",
       "</style>\n",
       "<table border=\"1\" class=\"dataframe\">\n",
       "  <thead>\n",
       "    <tr style=\"text-align: right;\">\n",
       "      <th></th>\n",
       "      <th>Index</th>\n",
       "      <th>Member_ID</th>\n",
       "      <th>Sales_Type</th>\n",
       "      <th>Contract_Type</th>\n",
       "      <th>Channel</th>\n",
       "      <th>Datetime</th>\n",
       "      <th>Term</th>\n",
       "      <th>Payment_Type</th>\n",
       "      <th>Product_Type</th>\n",
       "      <th>Amount_Month</th>\n",
       "      <th>Customer_Type</th>\n",
       "      <th>Age</th>\n",
       "      <th>Address1</th>\n",
       "      <th>Address2</th>\n",
       "      <th>State</th>\n",
       "      <th>Overdue_count</th>\n",
       "      <th>Overdue_Type</th>\n",
       "      <th>Gender</th>\n",
       "      <th>Credit_Rank</th>\n",
       "      <th>Bank</th>\n",
       "    </tr>\n",
       "  </thead>\n",
       "  <tbody>\n",
       "    <tr>\n",
       "      <th>0</th>\n",
       "      <td>1</td>\n",
       "      <td>66758234</td>\n",
       "      <td>렌탈</td>\n",
       "      <td>일반계약</td>\n",
       "      <td>영업방판</td>\n",
       "      <td>2019-05-06</td>\n",
       "      <td>60</td>\n",
       "      <td>CMS</td>\n",
       "      <td>DES-1</td>\n",
       "      <td>96900</td>\n",
       "      <td>개인</td>\n",
       "      <td>42.0</td>\n",
       "      <td>경기도</td>\n",
       "      <td>경기도</td>\n",
       "      <td>계약확정</td>\n",
       "      <td>0</td>\n",
       "      <td>없음</td>\n",
       "      <td>여자</td>\n",
       "      <td>9.0</td>\n",
       "      <td>새마을금고</td>\n",
       "    </tr>\n",
       "    <tr>\n",
       "      <th>1</th>\n",
       "      <td>2</td>\n",
       "      <td>66755948</td>\n",
       "      <td>렌탈</td>\n",
       "      <td>교체계약</td>\n",
       "      <td>영업방판</td>\n",
       "      <td>2020-02-20</td>\n",
       "      <td>60</td>\n",
       "      <td>카드이체</td>\n",
       "      <td>DES-1</td>\n",
       "      <td>102900</td>\n",
       "      <td>개인</td>\n",
       "      <td>39.0</td>\n",
       "      <td>경기도</td>\n",
       "      <td>경기도</td>\n",
       "      <td>계약확정</td>\n",
       "      <td>0</td>\n",
       "      <td>없음</td>\n",
       "      <td>남자</td>\n",
       "      <td>2.0</td>\n",
       "      <td>현대카드</td>\n",
       "    </tr>\n",
       "    <tr>\n",
       "      <th>2</th>\n",
       "      <td>3</td>\n",
       "      <td>66756657</td>\n",
       "      <td>렌탈</td>\n",
       "      <td>일반계약</td>\n",
       "      <td>홈쇼핑/방송</td>\n",
       "      <td>2019-02-28</td>\n",
       "      <td>60</td>\n",
       "      <td>CMS</td>\n",
       "      <td>DES-1</td>\n",
       "      <td>96900</td>\n",
       "      <td>개인</td>\n",
       "      <td>48.0</td>\n",
       "      <td>경기도</td>\n",
       "      <td>경기도</td>\n",
       "      <td>계약확정</td>\n",
       "      <td>0</td>\n",
       "      <td>없음</td>\n",
       "      <td>여자</td>\n",
       "      <td>8.0</td>\n",
       "      <td>우리은행</td>\n",
       "    </tr>\n",
       "    <tr>\n",
       "      <th>3</th>\n",
       "      <td>4</td>\n",
       "      <td>66423450</td>\n",
       "      <td>멤버십</td>\n",
       "      <td>멤버십3유형</td>\n",
       "      <td>재계약</td>\n",
       "      <td>2019-05-13</td>\n",
       "      <td>12</td>\n",
       "      <td>CMS</td>\n",
       "      <td>DES-1</td>\n",
       "      <td>66900</td>\n",
       "      <td>개인</td>\n",
       "      <td>39.0</td>\n",
       "      <td>경기도</td>\n",
       "      <td>경기도</td>\n",
       "      <td>계약확정</td>\n",
       "      <td>0</td>\n",
       "      <td>없음</td>\n",
       "      <td>남자</td>\n",
       "      <td>5.0</td>\n",
       "      <td>농협회원조합</td>\n",
       "    </tr>\n",
       "    <tr>\n",
       "      <th>4</th>\n",
       "      <td>5</td>\n",
       "      <td>66423204</td>\n",
       "      <td>멤버십</td>\n",
       "      <td>멤버십3유형</td>\n",
       "      <td>재계약</td>\n",
       "      <td>2019-05-10</td>\n",
       "      <td>12</td>\n",
       "      <td>CMS</td>\n",
       "      <td>DES-1</td>\n",
       "      <td>66900</td>\n",
       "      <td>개인</td>\n",
       "      <td>60.0</td>\n",
       "      <td>경기도</td>\n",
       "      <td>경기도</td>\n",
       "      <td>기간만료</td>\n",
       "      <td>12</td>\n",
       "      <td>있음</td>\n",
       "      <td>남자</td>\n",
       "      <td>8.0</td>\n",
       "      <td>농협회원조합</td>\n",
       "    </tr>\n",
       "  </tbody>\n",
       "</table>\n",
       "</div>"
      ],
      "text/plain": [
       "   Index  Member_ID Sales_Type Contract_Type Channel    Datetime  Term  \\\n",
       "0      1   66758234         렌탈          일반계약    영업방판  2019-05-06    60   \n",
       "1      2   66755948         렌탈          교체계약    영업방판  2020-02-20    60   \n",
       "2      3   66756657         렌탈          일반계약  홈쇼핑/방송  2019-02-28    60   \n",
       "3      4   66423450        멤버십        멤버십3유형     재계약  2019-05-13    12   \n",
       "4      5   66423204        멤버십        멤버십3유형     재계약  2019-05-10    12   \n",
       "\n",
       "  Payment_Type Product_Type  Amount_Month Customer_Type   Age Address1  \\\n",
       "0          CMS        DES-1         96900            개인  42.0      경기도   \n",
       "1         카드이체        DES-1        102900            개인  39.0      경기도   \n",
       "2          CMS        DES-1         96900            개인  48.0      경기도   \n",
       "3          CMS        DES-1         66900            개인  39.0      경기도   \n",
       "4          CMS        DES-1         66900            개인  60.0      경기도   \n",
       "\n",
       "  Address2 State  Overdue_count Overdue_Type Gender  Credit_Rank    Bank  \n",
       "0      경기도  계약확정              0           없음     여자          9.0   새마을금고  \n",
       "1      경기도  계약확정              0           없음     남자          2.0    현대카드  \n",
       "2      경기도  계약확정              0           없음     여자          8.0    우리은행  \n",
       "3      경기도  계약확정              0           없음     남자          5.0  농협회원조합  \n",
       "4      경기도  기간만료             12           있음     남자          8.0  농협회원조합  "
      ]
     },
     "execution_count": 5,
     "metadata": {},
     "output_type": "execute_result"
    }
   ],
   "source": [
    "df1.head()"
   ]
  },
  {
   "cell_type": "code",
   "execution_count": 6,
   "id": "749f81e6",
   "metadata": {},
   "outputs": [
    {
     "data": {
      "text/plain": [
       "없음    49110\n",
       "있음     2191\n",
       "Name: Overdue_Type, dtype: int64"
      ]
     },
     "execution_count": 6,
     "metadata": {},
     "output_type": "execute_result"
    }
   ],
   "source": [
    "df1['Overdue_Type'].value_counts()"
   ]
  },
  {
   "cell_type": "markdown",
   "id": "6f2453ba",
   "metadata": {},
   "source": [
    "---------------\n",
    "# 1. 데이터 전처리"
   ]
  },
  {
   "cell_type": "code",
   "execution_count": 7,
   "id": "723e9d5f",
   "metadata": {},
   "outputs": [],
   "source": [
    "# 1. 데이터 전처리\n",
    "\n",
    "# 결측치 처리_ [제거] dropna(): 행 내 결측값이 하나라도 존재하면 해당 행을 삭제\n",
    "\n",
    "df1_clean = df1.dropna()"
   ]
  },
  {
   "cell_type": "markdown",
   "id": "15a8e8fc",
   "metadata": {},
   "source": [
    "-----------\n",
    "# 2. X와 Y를 선택"
   ]
  },
  {
   "cell_type": "code",
   "execution_count": 8,
   "id": "77e8dab2",
   "metadata": {},
   "outputs": [],
   "source": [
    "# 2. X와 Y를 선택\n",
    "\n",
    "X = df1_clean[['Term', 'Amount_Month', 'Credit_Rank', 'Age']]\n",
    "Y = df1_clean['Overdue_Type']"
   ]
  },
  {
   "cell_type": "markdown",
   "id": "0b4840aa",
   "metadata": {},
   "source": [
    "-----------------\n",
    "# 3. 학습데이터와 검증데이터 분할\n",
    "                                                     (train/test set 구분)"
   ]
  },
  {
   "cell_type": "code",
   "execution_count": 9,
   "id": "8d0b95d6",
   "metadata": {},
   "outputs": [],
   "source": [
    "# 3. 학습데이터와 검증데이터 분할(train/test set 구분)\n",
    "\n",
    "from sklearn.model_selection import train_test_split\n",
    "\n",
    "X_train, X_test, Y_train, Y_test = train_test_split(X, Y,test_size=0.3,\n",
    "                                                   random_state = 1234)"
   ]
  },
  {
   "cell_type": "markdown",
   "id": "6ffe0a08",
   "metadata": {},
   "source": [
    "\n",
    "-------------\n",
    "# 4. 학습 실시"
   ]
  },
  {
   "cell_type": "code",
   "execution_count": 10,
   "id": "32c48305",
   "metadata": {},
   "outputs": [
    {
     "data": {
      "text/plain": [
       "DecisionTreeClassifier()"
      ]
     },
     "execution_count": 10,
     "metadata": {},
     "output_type": "execute_result"
    }
   ],
   "source": [
    "\n",
    "from sklearn.tree import DecisionTreeClassifier\n",
    "\n",
    "model = DecisionTreeClassifier()  # tree모델 생성\n",
    "model.fit(X_train, Y_train)  # 학습 실시"
   ]
  },
  {
   "cell_type": "markdown",
   "id": "a63e0fbf",
   "metadata": {},
   "source": [
    "----------\n",
    "# 5. 평가"
   ]
  },
  {
   "cell_type": "code",
   "execution_count": 11,
   "id": "e757e93d",
   "metadata": {},
   "outputs": [],
   "source": [
    "from sklearn.metrics import classification_report\n",
    "\n",
    "Y_train_pred = model.predict(X_train)\n",
    "Y_test_pred = model.predict(X_test)"
   ]
  },
  {
   "cell_type": "markdown",
   "id": "e2fa27bc",
   "metadata": {},
   "source": [
    "### 5.1) 학습 성능"
   ]
  },
  {
   "cell_type": "code",
   "execution_count": 12,
   "id": "e58aae00",
   "metadata": {},
   "outputs": [
    {
     "name": "stdout",
     "output_type": "stream",
     "text": [
      "              precision    recall  f1-score   support\n",
      "\n",
      "          없음       0.97      1.00      0.99     27423\n",
      "          있음       0.94      0.27      0.42      1029\n",
      "\n",
      "    accuracy                           0.97     28452\n",
      "   macro avg       0.96      0.63      0.70     28452\n",
      "weighted avg       0.97      0.97      0.97     28452\n",
      "\n"
     ]
    }
   ],
   "source": [
    "print(classification_report(Y_train, Y_train_pred))"
   ]
  },
  {
   "cell_type": "markdown",
   "id": "ac8d8579",
   "metadata": {},
   "source": [
    "### 5.2) 일반화 성능"
   ]
  },
  {
   "cell_type": "code",
   "execution_count": 13,
   "id": "3035afdf",
   "metadata": {},
   "outputs": [
    {
     "name": "stdout",
     "output_type": "stream",
     "text": [
      "              precision    recall  f1-score   support\n",
      "\n",
      "          없음       0.97      0.99      0.98     11795\n",
      "          있음       0.24      0.10      0.14       400\n",
      "\n",
      "    accuracy                           0.96     12195\n",
      "   macro avg       0.60      0.54      0.56     12195\n",
      "weighted avg       0.95      0.96      0.95     12195\n",
      "\n"
     ]
    }
   ],
   "source": [
    "print(classification_report(Y_test, Y_test_pred))"
   ]
  },
  {
   "cell_type": "markdown",
   "id": "9867847d",
   "metadata": {},
   "source": [
    "# 2-3) 특성공학_Feature Engineering\n",
    "수식화 (회귀분석 -> 기계학습(데이터 마이닝))\n",
    "\n",
    "- **특성공학 (Feature Engineering)**\n",
    "\n",
    "\n",
    "- **1. scaling & Encoding**\n",
    "\n",
    "\n",
    "    - scaling: 연속형 숫자데이터의 Scale 맞춰주는 작업\n",
    "        - Standard Scaler: 평균 0/ 표준편차 1\n",
    "        - Miin Max Scaler: 최솟값 0/ 최댓값 1\n",
    "        - Roberst Scaler: 중앙값 0/ IQR 1\n",
    "    \n",
    "    \n",
    "    - Encoding: 범주형 데이터를 숫자형태로 변환\n",
    "        - Label Encoding: 범주형 데이터의 각 항목값을 정수로 변환\n",
    "        - One Hot Encoding: 각 범주를 column으로 변환하여 해당 값만 1을 줌"
   ]
  },
  {
   "cell_type": "markdown",
   "id": "3d64652e",
   "metadata": {},
   "source": [
    "# Pipe Line 파이프라인 생성"
   ]
  },
  {
   "cell_type": "code",
   "execution_count": 14,
   "id": "876b43e4",
   "metadata": {},
   "outputs": [
    {
     "name": "stdout",
     "output_type": "stream",
     "text": [
      "Requirement already satisfied: imblearn in c:\\users\\dmcconet\\anaconda3\\lib\\site-packages (0.0)\n",
      "Requirement already satisfied: imbalanced-learn in c:\\users\\dmcconet\\anaconda3\\lib\\site-packages (from imblearn) (0.10.1)\n",
      "Requirement already satisfied: numpy>=1.17.3 in c:\\users\\dmcconet\\anaconda3\\lib\\site-packages (from imbalanced-learn->imblearn) (1.21.5)\n",
      "Requirement already satisfied: joblib>=1.1.1 in c:\\users\\dmcconet\\anaconda3\\lib\\site-packages (from imbalanced-learn->imblearn) (1.2.0)\n",
      "Requirement already satisfied: scipy>=1.3.2 in c:\\users\\dmcconet\\anaconda3\\lib\\site-packages (from imbalanced-learn->imblearn) (1.9.1)\n",
      "Requirement already satisfied: threadpoolctl>=2.0.0 in c:\\users\\dmcconet\\anaconda3\\lib\\site-packages (from imbalanced-learn->imblearn) (2.2.0)\n",
      "Requirement already satisfied: scikit-learn>=1.0.2 in c:\\users\\dmcconet\\anaconda3\\lib\\site-packages (from imbalanced-learn->imblearn) (1.0.2)\n"
     ]
    }
   ],
   "source": [
    "!pip install imblearn"
   ]
  },
  {
   "cell_type": "code",
   "execution_count": 15,
   "id": "7844aa71",
   "metadata": {},
   "outputs": [],
   "source": [
    "from imblearn.pipeline import make_pipeline \n",
    "                                    # 특성공학 +학습 파이프 생성 함수\n",
    "    \n",
    "from sklearn.preprocessing import MinMaxScaler\n",
    "                                    # 숫자 스케일링(0 ~ 1)\n",
    "\n",
    "from sklearn.preprocessing import OneHotEncoder\n",
    "                                    # 문자 인코딩 (항목 -> 1/0)\n",
    "    \n",
    "from sklearn.compose import make_column_transformer\n",
    "                                    # 각 항목의 타입별로 파이프 분할\n",
    "\n",
    "from sklearn.impute import SimpleImputer    \n",
    "                                    # 결측치 단순대치"
   ]
  },
  {
   "cell_type": "markdown",
   "id": "1012e88e",
   "metadata": {},
   "source": [
    "### 숫자 데이터 (결측값을 평균으로 처리 -> 스케일링)"
   ]
  },
  {
   "cell_type": "code",
   "execution_count": 16,
   "id": "e0260d64",
   "metadata": {},
   "outputs": [
    {
     "data": {
      "text/plain": [
       "Pipeline(steps=[('simpleimputer', SimpleImputer()),\n",
       "                ('minmaxscaler', MinMaxScaler())])"
      ]
     },
     "execution_count": 16,
     "metadata": {},
     "output_type": "execute_result"
    }
   ],
   "source": [
    "numeric_pipe = make_pipeline((SimpleImputer(strategy='mean')),\n",
    "                            (MinMaxScaler()))\n",
    "\n",
    "numeric_pipe"
   ]
  },
  {
   "cell_type": "markdown",
   "id": "2272534e",
   "metadata": {},
   "source": [
    "### 문자 데이터 (결측값을 최빈값 처리 -> 인코딩)"
   ]
  },
  {
   "cell_type": "code",
   "execution_count": 17,
   "id": "699e82c4",
   "metadata": {},
   "outputs": [
    {
     "data": {
      "text/plain": [
       "Pipeline(steps=[('simpleimputer', SimpleImputer(strategy='most_frequent')),\n",
       "                ('onehotencoder', OneHotEncoder())])"
      ]
     },
     "execution_count": 17,
     "metadata": {},
     "output_type": "execute_result"
    }
   ],
   "source": [
    "category_pipe = make_pipeline((SimpleImputer(strategy='most_frequent')),\n",
    "                             (OneHotEncoder()))\n",
    "category_pipe"
   ]
  },
  {
   "cell_type": "markdown",
   "id": "735c875b",
   "metadata": {},
   "source": [
    "## 파이프라인 구축\n",
    "### 숫자 항목은 숫자끼리 문자항목은 문자끼리 분류하여 처리"
   ]
  },
  {
   "cell_type": "code",
   "execution_count": 18,
   "id": "e1affacd",
   "metadata": {},
   "outputs": [],
   "source": [
    "x = df1[['Term', 'Amount_Month', 'Age', 'Credit_Rank', 'Gender', 'Product_Type']]\n",
    "y = df1['Overdue_Type']"
   ]
  },
  {
   "cell_type": "code",
   "execution_count": 19,
   "id": "977de728",
   "metadata": {},
   "outputs": [
    {
     "data": {
      "text/plain": [
       "ColumnTransformer(transformers=[('pipeline-1',\n",
       "                                 Pipeline(steps=[('simpleimputer',\n",
       "                                                  SimpleImputer()),\n",
       "                                                 ('minmaxscaler',\n",
       "                                                  MinMaxScaler())]),\n",
       "                                 ['Term', 'Amount_Month', 'Age',\n",
       "                                  'Credit_Rank']),\n",
       "                                ('pipeline-2',\n",
       "                                 Pipeline(steps=[('simpleimputer',\n",
       "                                                  SimpleImputer(strategy='most_frequent')),\n",
       "                                                 ('onehotencoder',\n",
       "                                                  OneHotEncoder())]),\n",
       "                                 ['Gender', 'Product_Type'])])"
      ]
     },
     "execution_count": 19,
     "metadata": {},
     "output_type": "execute_result"
    }
   ],
   "source": [
    "numeric_list = ['Term', 'Amount_Month', 'Age', 'Credit_Rank']\n",
    "category_list = ['Gender', 'Product_Type']\n",
    "preprocesing_pipe_w1 = make_column_transformer((numeric_pipe, numeric_list),\n",
    "                                           (category_pipe, category_list))\n",
    "\n",
    "preprocesing_pipe_w1"
   ]
  },
  {
   "cell_type": "code",
   "execution_count": 20,
   "id": "b429ed9c",
   "metadata": {},
   "outputs": [],
   "source": [
    "X = df1[['Term', 'Amount_Month', 'Age', 'Credit_Rank', 'Gender', 'Product_Type']]\n",
    "Y = df1['Overdue_Type']"
   ]
  },
  {
   "cell_type": "code",
   "execution_count": 21,
   "id": "06ea817c",
   "metadata": {},
   "outputs": [
    {
     "data": {
      "text/plain": [
       "ColumnTransformer(transformers=[('pipeline-1',\n",
       "                                 Pipeline(steps=[('simpleimputer',\n",
       "                                                  SimpleImputer()),\n",
       "                                                 ('minmaxscaler',\n",
       "                                                  MinMaxScaler())]),\n",
       "                                 ['Term', 'Amount_Month', 'Age',\n",
       "                                  'Credit_Rank']),\n",
       "                                ('pipeline-2',\n",
       "                                 Pipeline(steps=[('simpleimputer',\n",
       "                                                  SimpleImputer(strategy='most_frequent')),\n",
       "                                                 ('onehotencoder',\n",
       "                                                  OneHotEncoder())]),\n",
       "                                 ['Gender', 'Product_Type'])])"
      ]
     },
     "execution_count": 21,
     "metadata": {},
     "output_type": "execute_result"
    }
   ],
   "source": [
    "number_list = X.describe().columns.tolist()\n",
    "category_list = X.describe(include='object').columns.tolist()\n",
    "preprocessing_pipe_w2 = make_column_transformer( (numeric_pipe, number_list),\n",
    "                                              (category_pipe, category_list))\n",
    "preprocessing_pipe_w2"
   ]
  },
  {
   "cell_type": "markdown",
   "id": "48315d25",
   "metadata": {},
   "source": [
    "### 전처리 파이프 + 학습 알고리즘"
   ]
  },
  {
   "cell_type": "code",
   "execution_count": 23,
   "id": "0e988ff5",
   "metadata": {},
   "outputs": [
    {
     "data": {
      "text/plain": [
       "Pipeline(steps=[('columntransformer',\n",
       "                 ColumnTransformer(transformers=[('pipeline-1',\n",
       "                                                  Pipeline(steps=[('simpleimputer',\n",
       "                                                                   SimpleImputer()),\n",
       "                                                                  ('minmaxscaler',\n",
       "                                                                   MinMaxScaler())]),\n",
       "                                                  ['Term', 'Amount_Month',\n",
       "                                                   'Age', 'Credit_Rank']),\n",
       "                                                 ('pipeline-2',\n",
       "                                                  Pipeline(steps=[('simpleimputer',\n",
       "                                                                   SimpleImputer(strategy='most_frequent')),\n",
       "                                                                  ('onehotencoder',\n",
       "                                                                   OneHotEncoder())]),\n",
       "                                                  ['Gender',\n",
       "                                                   'Product_Type'])])),\n",
       "                ('decisiontreeclassifier', DecisionTreeClassifier())])"
      ]
     },
     "execution_count": 23,
     "metadata": {},
     "output_type": "execute_result"
    }
   ],
   "source": [
    "model_pipe = make_pipeline(preprocessing_pipe_w2, DecisionTreeClassifier())\n",
    "model_pipe"
   ]
  },
  {
   "cell_type": "code",
   "execution_count": 24,
   "id": "06564785",
   "metadata": {},
   "outputs": [
    {
     "data": {
      "text/plain": [
       "Pipeline(steps=[('columntransformer',\n",
       "                 ColumnTransformer(transformers=[('pipeline-1',\n",
       "                                                  Pipeline(steps=[('simpleimputer',\n",
       "                                                                   SimpleImputer()),\n",
       "                                                                  ('minmaxscaler',\n",
       "                                                                   MinMaxScaler())]),\n",
       "                                                  ['Term', 'Amount_Month',\n",
       "                                                   'Age', 'Credit_Rank']),\n",
       "                                                 ('pipeline-2',\n",
       "                                                  Pipeline(steps=[('simpleimputer',\n",
       "                                                                   SimpleImputer(strategy='most_frequent')),\n",
       "                                                                  ('onehotencoder',\n",
       "                                                                   OneHotEncoder())]),\n",
       "                                                  ['Gender',\n",
       "                                                   'Product_Type'])])),\n",
       "                ('decisiontreeclassifier', DecisionTreeClassifier())])"
      ]
     },
     "execution_count": 24,
     "metadata": {},
     "output_type": "execute_result"
    }
   ],
   "source": [
    "model_pipe.fit(X, Y)  # 학습수행"
   ]
  },
  {
   "cell_type": "code",
   "execution_count": 26,
   "id": "811e6598",
   "metadata": {},
   "outputs": [],
   "source": [
    "import pickle"
   ]
  },
  {
   "cell_type": "code",
   "execution_count": 27,
   "id": "9c04ce66",
   "metadata": {},
   "outputs": [],
   "source": [
    "pickle.dump(model_pipe, open('model.sav','wb')) # model.sav 저장"
   ]
  },
  {
   "cell_type": "code",
   "execution_count": null,
   "id": "66f20ce6",
   "metadata": {},
   "outputs": [],
   "source": []
  }
 ],
 "metadata": {
  "kernelspec": {
   "display_name": "Python 3 (ipykernel)",
   "language": "python",
   "name": "python3"
  },
  "language_info": {
   "codemirror_mode": {
    "name": "ipython",
    "version": 3
   },
   "file_extension": ".py",
   "mimetype": "text/x-python",
   "name": "python",
   "nbconvert_exporter": "python",
   "pygments_lexer": "ipython3",
   "version": "3.9.13"
  }
 },
 "nbformat": 4,
 "nbformat_minor": 5
}
