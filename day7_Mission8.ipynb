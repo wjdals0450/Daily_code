{
 "cells": [
  {
   "cell_type": "markdown",
   "id": "27603018",
   "metadata": {},
   "source": [
    "# Mission8\n",
    "\n",
    "- 10_Data.csv 를 불러와 df1으로 선언하여, 아래와 같은 미션을 수행하고자 한다. \n",
    "1. 데이터의 구조와 타입을 확인하고, '작업장코드'별 항목과 빈도수를 확인\n",
    "2. '작업장코드'에서 빈도수가 가장 높은 항목을 추출해 df1_top으로 선언하고, \n",
    "df1_top데이터의 실링압력이 높은 상위 100개 데이터를 추출해 result_top.xlsx 저장\n",
    "3. df1 데이터에서 '충전실온도'가 상위 10%해당하는 데이터를 추출하여,\n",
    "df1_temp_top 선언하고, 해당 데이터의 '쿠킹온도'의 평균과 중앙값의 차이를 계산하시오\n",
    "4. 공정 조업조건 간 상관관계를 확인하고자 한다. '충전실온도'와 나머지 \n",
    "숫자 변수들('실링온도', '쿠킹스팀압력','실링압력','생산시간')간의 산점도를 시각화"
   ]
  },
  {
   "cell_type": "markdown",
   "id": "d255214b",
   "metadata": {},
   "source": [
    "10_Data.csv 를 불러와 df1으로 선언하여, 아래와 같은 미션을 수행하고자 한다. \n",
    "### 1. 데이터의 구조와 타입을 확인하고, '작업장코드'별 항목과 빈도수를 확인"
   ]
  },
  {
   "cell_type": "code",
   "execution_count": 6,
   "id": "0fd0cedc",
   "metadata": {},
   "outputs": [],
   "source": [
    "import numpy as np\n",
    "import pandas as pd # 정형데이터 전처리 / 통계 연산 수행\n",
    "\n",
    "import seaborn as sns # 통계적 시각화 연산\n",
    "import matplotlib as mpl # 시각화 옵션 (외부)\n",
    "import matplotlib.pyplot as plt # 시각화 옵션 (내부)\n",
    "import plotly.express as px # 동적 그래프 시각화\n",
    "import scipy.stats as stats # 통계적 가설 검정 수행\n",
    "\n",
    "mpl.rc('font',family='Malgun Gothic') # 한글 글꼴 설정"
   ]
  },
  {
   "cell_type": "code",
   "execution_count": 17,
   "id": "6a32cdd4",
   "metadata": {},
   "outputs": [
    {
     "name": "stdout",
     "output_type": "stream",
     "text": [
      "<class 'pandas.core.frame.DataFrame'>\n",
      "RangeIndex: 24069 entries, 0 to 24068\n",
      "Data columns (total 13 columns):\n",
      " #   Column  Non-Null Count  Dtype  \n",
      "---  ------  --------------  -----  \n",
      " 0   순번      24069 non-null  int64  \n",
      " 1   생산라인코드  24069 non-null  object \n",
      " 2   생산라인명   24069 non-null  object \n",
      " 3   생산일자    24069 non-null  object \n",
      " 4   품목코드    24031 non-null  object \n",
      " 5   품목명     24012 non-null  object \n",
      " 6   작업장코드   24069 non-null  object \n",
      " 7   충전실온도   24069 non-null  float64\n",
      " 8   실링온도    24041 non-null  float64\n",
      " 9   쿠킹온도    24041 non-null  float64\n",
      " 10  쿠킹스팀압력  24069 non-null  float64\n",
      " 11  실링압력    24069 non-null  float64\n",
      " 12  생산시간    22991 non-null  float64\n",
      "dtypes: float64(6), int64(1), object(6)\n",
      "memory usage: 2.4+ MB\n"
     ]
    }
   ],
   "source": [
    "df1 = pd.read_csv('10_Data.csv', encoding='cp949')\n",
    "df1.head()"
   ]
  },
  {
   "cell_type": "code",
   "execution_count": 18,
   "id": "8ad6ba4d",
   "metadata": {},
   "outputs": [
    {
     "name": "stdout",
     "output_type": "stream",
     "text": [
      "<class 'pandas.core.frame.DataFrame'>\n",
      "RangeIndex: 24069 entries, 0 to 24068\n",
      "Data columns (total 13 columns):\n",
      " #   Column  Non-Null Count  Dtype  \n",
      "---  ------  --------------  -----  \n",
      " 0   순번      24069 non-null  int64  \n",
      " 1   생산라인코드  24069 non-null  object \n",
      " 2   생산라인명   24069 non-null  object \n",
      " 3   생산일자    24069 non-null  object \n",
      " 4   품목코드    24031 non-null  object \n",
      " 5   품목명     24012 non-null  object \n",
      " 6   작업장코드   24069 non-null  object \n",
      " 7   충전실온도   24069 non-null  float64\n",
      " 8   실링온도    24041 non-null  float64\n",
      " 9   쿠킹온도    24041 non-null  float64\n",
      " 10  쿠킹스팀압력  24069 non-null  float64\n",
      " 11  실링압력    24069 non-null  float64\n",
      " 12  생산시간    22991 non-null  float64\n",
      "dtypes: float64(6), int64(1), object(6)\n",
      "memory usage: 2.4+ MB\n"
     ]
    }
   ],
   "source": [
    "# 1)데이터의 구조와 타입을 확인하고, '작업장코드'별 항목과 빈도수를 확인\n",
    "\n",
    "df1.info()"
   ]
  },
  {
   "cell_type": "code",
   "execution_count": 19,
   "id": "a46a3080",
   "metadata": {},
   "outputs": [
    {
     "data": {
      "text/plain": [
       "W005    13013\n",
       "W003     8204\n",
       "W007     2478\n",
       "W002      359\n",
       "W012       15\n",
       "Name: 작업장코드, dtype: int64"
      ]
     },
     "execution_count": 19,
     "metadata": {},
     "output_type": "execute_result"
    }
   ],
   "source": [
    "df1['작업장코드'].value_counts()"
   ]
  },
  {
   "cell_type": "code",
   "execution_count": 29,
   "id": "e9d53c5d",
   "metadata": {},
   "outputs": [],
   "source": [
    "# 2) '작업장코드'에서 빈도수가 가장 높은 항목을 추출해 df1_top으로 선언하고, \n",
    "#     df1_top데이터의 실링압력이 높은 상위 100개 데이터를 추출해 result_top.xlsx 저장\n",
    "\n",
    "cond1 = df1['작업장코드'] == df1['작업장코드'].value_counts().index .tolist()[0]\n",
    "df1_top = df1[cond1]\n",
    "\n",
    "\n",
    "df1_top.sort_values(by='실링압력', ascending=False).head(100).to_excel('result_top.xlsx')"
   ]
  },
  {
   "cell_type": "code",
   "execution_count": 37,
   "id": "2e834a8e",
   "metadata": {},
   "outputs": [
    {
     "data": {
      "text/plain": [
       "0.14462280002075545"
      ]
     },
     "execution_count": 37,
     "metadata": {},
     "output_type": "execute_result"
    }
   ],
   "source": [
    "# 3) df1 데이터에서 '충전실온도'가 상위 10%해당하는 데이터를 추출하여, \n",
    "#    df1_temp_top 선언하고, \n",
    "#    해당 데이터의 '쿠킹온도'의 평균과 중앙값의 차이를 계산하시오\n",
    "\n",
    "cond1 = (df1['충전실온도']>=df1['충전실온도'].quantile(0.9))\n",
    "df1_temp_top = df1[cond1]\n",
    "\n",
    "df1_temp_top['쿠킹온도'].mean() - df1_temp_top['쿠킹온도'].median()"
   ]
  },
  {
   "cell_type": "code",
   "execution_count": 41,
   "id": "d5c33bf8",
   "metadata": {},
   "outputs": [],
   "source": [
    "# 4) 공정 조업조건 간 상관관계를 확인하고자 한다.\n",
    "#   '충전실온도'와 나머지 숫자 변수들('실링온도', '쿠킹스팀압력','실링압력','생산시간')간의 산점도를 시각화\n",
    "\n",
    "\n",
    "fig = sns.pairplot(df1, vars=['충전실온도', '실링온도', '쿠킹스팀압력','실링압력', '생산시간'])"
   ]
  },
  {
   "cell_type": "markdown",
   "id": "668a6ade",
   "metadata": {},
   "source": []
  }
 ],
 "metadata": {
  "kernelspec": {
   "display_name": "Python 3 (ipykernel)",
   "language": "python",
   "name": "python3"
  },
  "language_info": {
   "codemirror_mode": {
    "name": "ipython",
    "version": 3
   },
   "file_extension": ".py",
   "mimetype": "text/x-python",
   "name": "python",
   "nbconvert_exporter": "python",
   "pygments_lexer": "ipython3",
   "version": "3.9.13"
  }
 },
 "nbformat": 4,
 "nbformat_minor": 5
}
